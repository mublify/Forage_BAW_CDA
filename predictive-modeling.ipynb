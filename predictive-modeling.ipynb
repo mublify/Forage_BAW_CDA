{
 "cells": [
  {
   "cell_type": "markdown",
   "id": "ac084528",
   "metadata": {
    "id": "OWi6Ga1UZj_r",
    "papermill": {
     "duration": 0.008533,
     "end_time": "2024-03-15T06:45:39.178651",
     "exception": false,
     "start_time": "2024-03-15T06:45:39.170118",
     "status": "completed"
    },
    "tags": []
   },
   "source": [
    "# Task 2\n",
    "\n",
    "---\n",
    "\n",
    "## Predictive modeling of customer bookings\n",
    "\n",
    "This Jupyter notebook includes some code to get started with this predictive modeling task. We will use various packages for data manipulation, feature engineering and machine learning.\n",
    "\n",
    "### Exploratory data analysis\n",
    "\n",
    "First, we must explore the data in order to better understand what we have and the statistical properties of the dataset."
   ]
  },
  {
   "cell_type": "code",
   "execution_count": 1,
   "id": "93934d3d",
   "metadata": {
    "execution": {
     "iopub.execute_input": "2024-03-15T06:45:39.196338Z",
     "iopub.status.busy": "2024-03-15T06:45:39.195694Z",
     "iopub.status.idle": "2024-03-15T06:45:40.137104Z",
     "shell.execute_reply": "2024-03-15T06:45:40.135891Z"
    },
    "id": "lPN9ERevZj_v",
    "papermill": {
     "duration": 0.95403,
     "end_time": "2024-03-15T06:45:40.140188",
     "exception": false,
     "start_time": "2024-03-15T06:45:39.186158",
     "status": "completed"
    },
    "tags": []
   },
   "outputs": [],
   "source": [
    "import pandas as pd"
   ]
  },
  {
   "cell_type": "code",
   "execution_count": 2,
   "id": "3381f2fd",
   "metadata": {
    "execution": {
     "iopub.execute_input": "2024-03-15T06:45:40.156297Z",
     "iopub.status.busy": "2024-03-15T06:45:40.155745Z",
     "iopub.status.idle": "2024-03-15T06:45:40.357832Z",
     "shell.execute_reply": "2024-03-15T06:45:40.356735Z"
    },
    "id": "UhSmaWiqZj_y",
    "outputId": "d395c184-96cc-4e1d-bf1e-d2e8e667c53c",
    "papermill": {
     "duration": 0.213062,
     "end_time": "2024-03-15T06:45:40.360407",
     "exception": false,
     "start_time": "2024-03-15T06:45:40.147345",
     "status": "completed"
    },
    "tags": []
   },
   "outputs": [
    {
     "data": {
      "text/html": [
       "<div>\n",
       "<style scoped>\n",
       "    .dataframe tbody tr th:only-of-type {\n",
       "        vertical-align: middle;\n",
       "    }\n",
       "\n",
       "    .dataframe tbody tr th {\n",
       "        vertical-align: top;\n",
       "    }\n",
       "\n",
       "    .dataframe thead th {\n",
       "        text-align: right;\n",
       "    }\n",
       "</style>\n",
       "<table border=\"1\" class=\"dataframe\">\n",
       "  <thead>\n",
       "    <tr style=\"text-align: right;\">\n",
       "      <th></th>\n",
       "      <th>num_passengers</th>\n",
       "      <th>sales_channel</th>\n",
       "      <th>trip_type</th>\n",
       "      <th>purchase_lead</th>\n",
       "      <th>length_of_stay</th>\n",
       "      <th>flight_hour</th>\n",
       "      <th>flight_day</th>\n",
       "      <th>route</th>\n",
       "      <th>booking_origin</th>\n",
       "      <th>wants_extra_baggage</th>\n",
       "      <th>wants_preferred_seat</th>\n",
       "      <th>wants_in_flight_meals</th>\n",
       "      <th>flight_duration</th>\n",
       "      <th>booking_complete</th>\n",
       "    </tr>\n",
       "  </thead>\n",
       "  <tbody>\n",
       "    <tr>\n",
       "      <th>0</th>\n",
       "      <td>2</td>\n",
       "      <td>Internet</td>\n",
       "      <td>RoundTrip</td>\n",
       "      <td>262</td>\n",
       "      <td>19</td>\n",
       "      <td>7</td>\n",
       "      <td>Sat</td>\n",
       "      <td>AKLDEL</td>\n",
       "      <td>New Zealand</td>\n",
       "      <td>1</td>\n",
       "      <td>0</td>\n",
       "      <td>0</td>\n",
       "      <td>5.52</td>\n",
       "      <td>0</td>\n",
       "    </tr>\n",
       "    <tr>\n",
       "      <th>1</th>\n",
       "      <td>1</td>\n",
       "      <td>Internet</td>\n",
       "      <td>RoundTrip</td>\n",
       "      <td>112</td>\n",
       "      <td>20</td>\n",
       "      <td>3</td>\n",
       "      <td>Sat</td>\n",
       "      <td>AKLDEL</td>\n",
       "      <td>New Zealand</td>\n",
       "      <td>0</td>\n",
       "      <td>0</td>\n",
       "      <td>0</td>\n",
       "      <td>5.52</td>\n",
       "      <td>0</td>\n",
       "    </tr>\n",
       "    <tr>\n",
       "      <th>2</th>\n",
       "      <td>2</td>\n",
       "      <td>Internet</td>\n",
       "      <td>RoundTrip</td>\n",
       "      <td>243</td>\n",
       "      <td>22</td>\n",
       "      <td>17</td>\n",
       "      <td>Wed</td>\n",
       "      <td>AKLDEL</td>\n",
       "      <td>India</td>\n",
       "      <td>1</td>\n",
       "      <td>1</td>\n",
       "      <td>0</td>\n",
       "      <td>5.52</td>\n",
       "      <td>0</td>\n",
       "    </tr>\n",
       "    <tr>\n",
       "      <th>3</th>\n",
       "      <td>1</td>\n",
       "      <td>Internet</td>\n",
       "      <td>RoundTrip</td>\n",
       "      <td>96</td>\n",
       "      <td>31</td>\n",
       "      <td>4</td>\n",
       "      <td>Sat</td>\n",
       "      <td>AKLDEL</td>\n",
       "      <td>New Zealand</td>\n",
       "      <td>0</td>\n",
       "      <td>0</td>\n",
       "      <td>1</td>\n",
       "      <td>5.52</td>\n",
       "      <td>0</td>\n",
       "    </tr>\n",
       "    <tr>\n",
       "      <th>4</th>\n",
       "      <td>2</td>\n",
       "      <td>Internet</td>\n",
       "      <td>RoundTrip</td>\n",
       "      <td>68</td>\n",
       "      <td>22</td>\n",
       "      <td>15</td>\n",
       "      <td>Wed</td>\n",
       "      <td>AKLDEL</td>\n",
       "      <td>India</td>\n",
       "      <td>1</td>\n",
       "      <td>0</td>\n",
       "      <td>1</td>\n",
       "      <td>5.52</td>\n",
       "      <td>0</td>\n",
       "    </tr>\n",
       "  </tbody>\n",
       "</table>\n",
       "</div>"
      ],
      "text/plain": [
       "   num_passengers sales_channel  trip_type  purchase_lead  length_of_stay  \\\n",
       "0               2      Internet  RoundTrip            262              19   \n",
       "1               1      Internet  RoundTrip            112              20   \n",
       "2               2      Internet  RoundTrip            243              22   \n",
       "3               1      Internet  RoundTrip             96              31   \n",
       "4               2      Internet  RoundTrip             68              22   \n",
       "\n",
       "   flight_hour flight_day   route booking_origin  wants_extra_baggage  \\\n",
       "0            7        Sat  AKLDEL    New Zealand                    1   \n",
       "1            3        Sat  AKLDEL    New Zealand                    0   \n",
       "2           17        Wed  AKLDEL          India                    1   \n",
       "3            4        Sat  AKLDEL    New Zealand                    0   \n",
       "4           15        Wed  AKLDEL          India                    1   \n",
       "\n",
       "   wants_preferred_seat  wants_in_flight_meals  flight_duration  \\\n",
       "0                     0                      0             5.52   \n",
       "1                     0                      0             5.52   \n",
       "2                     1                      0             5.52   \n",
       "3                     0                      1             5.52   \n",
       "4                     0                      1             5.52   \n",
       "\n",
       "   booking_complete  \n",
       "0                 0  \n",
       "1                 0  \n",
       "2                 0  \n",
       "3                 0  \n",
       "4                 0  "
      ]
     },
     "execution_count": 2,
     "metadata": {},
     "output_type": "execute_result"
    }
   ],
   "source": [
    "df = pd.read_csv(\"/kaggle/input/customer-booking/customer_booking.csv\", encoding=\"ISO-8859-1\")\n",
    "df.head()"
   ]
  },
  {
   "cell_type": "markdown",
   "id": "34ca18b3",
   "metadata": {
    "id": "DOgjJbI9Zj_y",
    "papermill": {
     "duration": 0.006932,
     "end_time": "2024-03-15T06:45:40.374672",
     "exception": false,
     "start_time": "2024-03-15T06:45:40.367740",
     "status": "completed"
    },
    "tags": []
   },
   "source": [
    "The `.head()` method allows us to view the first 5 rows in the dataset, this is useful for visual inspection of our columns"
   ]
  },
  {
   "cell_type": "code",
   "execution_count": 3,
   "id": "01d2af06",
   "metadata": {
    "execution": {
     "iopub.execute_input": "2024-03-15T06:45:40.391036Z",
     "iopub.status.busy": "2024-03-15T06:45:40.390458Z",
     "iopub.status.idle": "2024-03-15T06:45:40.448602Z",
     "shell.execute_reply": "2024-03-15T06:45:40.447347Z"
    },
    "id": "HjrOMFQbZj_y",
    "outputId": "076be8e1-46a9-453e-f9e1-99a252185139",
    "papermill": {
     "duration": 0.06917,
     "end_time": "2024-03-15T06:45:40.451161",
     "exception": false,
     "start_time": "2024-03-15T06:45:40.381991",
     "status": "completed"
    },
    "tags": []
   },
   "outputs": [
    {
     "name": "stdout",
     "output_type": "stream",
     "text": [
      "<class 'pandas.core.frame.DataFrame'>\n",
      "RangeIndex: 50000 entries, 0 to 49999\n",
      "Data columns (total 14 columns):\n",
      " #   Column                 Non-Null Count  Dtype  \n",
      "---  ------                 --------------  -----  \n",
      " 0   num_passengers         50000 non-null  int64  \n",
      " 1   sales_channel          50000 non-null  object \n",
      " 2   trip_type              50000 non-null  object \n",
      " 3   purchase_lead          50000 non-null  int64  \n",
      " 4   length_of_stay         50000 non-null  int64  \n",
      " 5   flight_hour            50000 non-null  int64  \n",
      " 6   flight_day             50000 non-null  object \n",
      " 7   route                  50000 non-null  object \n",
      " 8   booking_origin         50000 non-null  object \n",
      " 9   wants_extra_baggage    50000 non-null  int64  \n",
      " 10  wants_preferred_seat   50000 non-null  int64  \n",
      " 11  wants_in_flight_meals  50000 non-null  int64  \n",
      " 12  flight_duration        50000 non-null  float64\n",
      " 13  booking_complete       50000 non-null  int64  \n",
      "dtypes: float64(1), int64(8), object(5)\n",
      "memory usage: 5.3+ MB\n"
     ]
    }
   ],
   "source": [
    "df.info()"
   ]
  },
  {
   "cell_type": "markdown",
   "id": "9f64e75c",
   "metadata": {
    "id": "54XTB4uIZj_y",
    "papermill": {
     "duration": 0.007191,
     "end_time": "2024-03-15T06:45:40.465858",
     "exception": false,
     "start_time": "2024-03-15T06:45:40.458667",
     "status": "completed"
    },
    "tags": []
   },
   "source": [
    "The `.info()` method gives us a data description, telling us the names of the columns, their data types and how many null values we have. Fortunately, we have no null values. It looks like some of these columns should be converted into different data types, e.g. flight_day.\n",
    "\n",
    "To provide more context, below is a more detailed data description, explaining exactly what each column means:\n",
    "\n",
    "- `num_passengers` = number of passengers travelling\n",
    "- `sales_channel` = sales channel booking was made on\n",
    "- `trip_type` = trip Type (Round Trip, One Way, Circle Trip)\n",
    "- `purchase_lead` = number of days between travel date and booking date\n",
    "- `length_of_stay` = number of days spent at destination\n",
    "- `flight_hour` = hour of flight departure\n",
    "- `flight_day` = day of week of flight departure\n",
    "- `route` = origin -> destination flight route\n",
    "- `booking_origin` = country from where booking was made\n",
    "- `wants_extra_baggage` = if the customer wanted extra baggage in the booking\n",
    "- `wants_preferred_seat` = if the customer wanted a preferred seat in the booking\n",
    "- `wants_in_flight_meals` = if the customer wanted in-flight meals in the booking\n",
    "- `flight_duration` = total duration of flight (in hours)\n",
    "- `booking_complete` = flag indicating if the customer completed the booking\n",
    "\n",
    "Before we compute any statistics on the data, lets do any necessary data conversion"
   ]
  },
  {
   "cell_type": "code",
   "execution_count": 4,
   "id": "b86aa449",
   "metadata": {
    "execution": {
     "iopub.execute_input": "2024-03-15T06:45:40.482635Z",
     "iopub.status.busy": "2024-03-15T06:45:40.481625Z",
     "iopub.status.idle": "2024-03-15T06:45:40.492882Z",
     "shell.execute_reply": "2024-03-15T06:45:40.492067Z"
    },
    "id": "evthiVmYZj_z",
    "outputId": "04882c9f-411a-4659-8fa3-f4ac786e68fd",
    "papermill": {
     "duration": 0.022107,
     "end_time": "2024-03-15T06:45:40.495224",
     "exception": false,
     "start_time": "2024-03-15T06:45:40.473117",
     "status": "completed"
    },
    "tags": []
   },
   "outputs": [
    {
     "data": {
      "text/plain": [
       "array(['Sat', 'Wed', 'Thu', 'Mon', 'Sun', 'Tue', 'Fri'], dtype=object)"
      ]
     },
     "execution_count": 4,
     "metadata": {},
     "output_type": "execute_result"
    }
   ],
   "source": [
    "df[\"flight_day\"].unique()"
   ]
  },
  {
   "cell_type": "code",
   "execution_count": 5,
   "id": "0d410c4e",
   "metadata": {
    "execution": {
     "iopub.execute_input": "2024-03-15T06:45:40.512429Z",
     "iopub.status.busy": "2024-03-15T06:45:40.511471Z",
     "iopub.status.idle": "2024-03-15T06:45:40.523562Z",
     "shell.execute_reply": "2024-03-15T06:45:40.522530Z"
    },
    "id": "2YzCmqIiZj_z",
    "papermill": {
     "duration": 0.023323,
     "end_time": "2024-03-15T06:45:40.526113",
     "exception": false,
     "start_time": "2024-03-15T06:45:40.502790",
     "status": "completed"
    },
    "tags": []
   },
   "outputs": [],
   "source": [
    "mapping = {\n",
    "    \"Mon\": 1,\n",
    "    \"Tue\": 2,\n",
    "    \"Wed\": 3,\n",
    "    \"Thu\": 4,\n",
    "    \"Fri\": 5,\n",
    "    \"Sat\": 6,\n",
    "    \"Sun\": 7,\n",
    "}\n",
    "\n",
    "df[\"flight_day\"] = df[\"flight_day\"].map(mapping)"
   ]
  },
  {
   "cell_type": "code",
   "execution_count": 6,
   "id": "54a212bb",
   "metadata": {
    "execution": {
     "iopub.execute_input": "2024-03-15T06:45:40.543339Z",
     "iopub.status.busy": "2024-03-15T06:45:40.542920Z",
     "iopub.status.idle": "2024-03-15T06:45:40.552112Z",
     "shell.execute_reply": "2024-03-15T06:45:40.551287Z"
    },
    "id": "vX_4e7e0Zj_z",
    "outputId": "d119d279-02da-4c8e-b104-34aecea9d576",
    "papermill": {
     "duration": 0.020829,
     "end_time": "2024-03-15T06:45:40.554554",
     "exception": false,
     "start_time": "2024-03-15T06:45:40.533725",
     "status": "completed"
    },
    "tags": []
   },
   "outputs": [
    {
     "data": {
      "text/plain": [
       "array([6, 3, 4, 1, 7, 2, 5])"
      ]
     },
     "execution_count": 6,
     "metadata": {},
     "output_type": "execute_result"
    }
   ],
   "source": [
    "df[\"flight_day\"].unique()"
   ]
  },
  {
   "cell_type": "code",
   "execution_count": 7,
   "id": "fcc1eff8",
   "metadata": {
    "execution": {
     "iopub.execute_input": "2024-03-15T06:45:40.572002Z",
     "iopub.status.busy": "2024-03-15T06:45:40.571328Z",
     "iopub.status.idle": "2024-03-15T06:45:40.631292Z",
     "shell.execute_reply": "2024-03-15T06:45:40.630215Z"
    },
    "id": "eIfXY7icZj_0",
    "outputId": "5a8bf401-8d06-45c4-f02c-123bdd6020a0",
    "papermill": {
     "duration": 0.071555,
     "end_time": "2024-03-15T06:45:40.633801",
     "exception": false,
     "start_time": "2024-03-15T06:45:40.562246",
     "status": "completed"
    },
    "tags": []
   },
   "outputs": [
    {
     "data": {
      "text/html": [
       "<div>\n",
       "<style scoped>\n",
       "    .dataframe tbody tr th:only-of-type {\n",
       "        vertical-align: middle;\n",
       "    }\n",
       "\n",
       "    .dataframe tbody tr th {\n",
       "        vertical-align: top;\n",
       "    }\n",
       "\n",
       "    .dataframe thead th {\n",
       "        text-align: right;\n",
       "    }\n",
       "</style>\n",
       "<table border=\"1\" class=\"dataframe\">\n",
       "  <thead>\n",
       "    <tr style=\"text-align: right;\">\n",
       "      <th></th>\n",
       "      <th>num_passengers</th>\n",
       "      <th>purchase_lead</th>\n",
       "      <th>length_of_stay</th>\n",
       "      <th>flight_hour</th>\n",
       "      <th>flight_day</th>\n",
       "      <th>wants_extra_baggage</th>\n",
       "      <th>wants_preferred_seat</th>\n",
       "      <th>wants_in_flight_meals</th>\n",
       "      <th>flight_duration</th>\n",
       "      <th>booking_complete</th>\n",
       "    </tr>\n",
       "  </thead>\n",
       "  <tbody>\n",
       "    <tr>\n",
       "      <th>count</th>\n",
       "      <td>50000.000000</td>\n",
       "      <td>50000.000000</td>\n",
       "      <td>50000.00000</td>\n",
       "      <td>50000.00000</td>\n",
       "      <td>50000.000000</td>\n",
       "      <td>50000.000000</td>\n",
       "      <td>50000.000000</td>\n",
       "      <td>50000.000000</td>\n",
       "      <td>50000.000000</td>\n",
       "      <td>50000.000000</td>\n",
       "    </tr>\n",
       "    <tr>\n",
       "      <th>mean</th>\n",
       "      <td>1.591240</td>\n",
       "      <td>84.940480</td>\n",
       "      <td>23.04456</td>\n",
       "      <td>9.06634</td>\n",
       "      <td>3.814420</td>\n",
       "      <td>0.668780</td>\n",
       "      <td>0.296960</td>\n",
       "      <td>0.427140</td>\n",
       "      <td>7.277561</td>\n",
       "      <td>0.149560</td>\n",
       "    </tr>\n",
       "    <tr>\n",
       "      <th>std</th>\n",
       "      <td>1.020165</td>\n",
       "      <td>90.451378</td>\n",
       "      <td>33.88767</td>\n",
       "      <td>5.41266</td>\n",
       "      <td>1.992792</td>\n",
       "      <td>0.470657</td>\n",
       "      <td>0.456923</td>\n",
       "      <td>0.494668</td>\n",
       "      <td>1.496863</td>\n",
       "      <td>0.356643</td>\n",
       "    </tr>\n",
       "    <tr>\n",
       "      <th>min</th>\n",
       "      <td>1.000000</td>\n",
       "      <td>0.000000</td>\n",
       "      <td>0.00000</td>\n",
       "      <td>0.00000</td>\n",
       "      <td>1.000000</td>\n",
       "      <td>0.000000</td>\n",
       "      <td>0.000000</td>\n",
       "      <td>0.000000</td>\n",
       "      <td>4.670000</td>\n",
       "      <td>0.000000</td>\n",
       "    </tr>\n",
       "    <tr>\n",
       "      <th>25%</th>\n",
       "      <td>1.000000</td>\n",
       "      <td>21.000000</td>\n",
       "      <td>5.00000</td>\n",
       "      <td>5.00000</td>\n",
       "      <td>2.000000</td>\n",
       "      <td>0.000000</td>\n",
       "      <td>0.000000</td>\n",
       "      <td>0.000000</td>\n",
       "      <td>5.620000</td>\n",
       "      <td>0.000000</td>\n",
       "    </tr>\n",
       "    <tr>\n",
       "      <th>50%</th>\n",
       "      <td>1.000000</td>\n",
       "      <td>51.000000</td>\n",
       "      <td>17.00000</td>\n",
       "      <td>9.00000</td>\n",
       "      <td>4.000000</td>\n",
       "      <td>1.000000</td>\n",
       "      <td>0.000000</td>\n",
       "      <td>0.000000</td>\n",
       "      <td>7.570000</td>\n",
       "      <td>0.000000</td>\n",
       "    </tr>\n",
       "    <tr>\n",
       "      <th>75%</th>\n",
       "      <td>2.000000</td>\n",
       "      <td>115.000000</td>\n",
       "      <td>28.00000</td>\n",
       "      <td>13.00000</td>\n",
       "      <td>5.000000</td>\n",
       "      <td>1.000000</td>\n",
       "      <td>1.000000</td>\n",
       "      <td>1.000000</td>\n",
       "      <td>8.830000</td>\n",
       "      <td>0.000000</td>\n",
       "    </tr>\n",
       "    <tr>\n",
       "      <th>max</th>\n",
       "      <td>9.000000</td>\n",
       "      <td>867.000000</td>\n",
       "      <td>778.00000</td>\n",
       "      <td>23.00000</td>\n",
       "      <td>7.000000</td>\n",
       "      <td>1.000000</td>\n",
       "      <td>1.000000</td>\n",
       "      <td>1.000000</td>\n",
       "      <td>9.500000</td>\n",
       "      <td>1.000000</td>\n",
       "    </tr>\n",
       "  </tbody>\n",
       "</table>\n",
       "</div>"
      ],
      "text/plain": [
       "       num_passengers  purchase_lead  length_of_stay  flight_hour  \\\n",
       "count    50000.000000   50000.000000     50000.00000  50000.00000   \n",
       "mean         1.591240      84.940480        23.04456      9.06634   \n",
       "std          1.020165      90.451378        33.88767      5.41266   \n",
       "min          1.000000       0.000000         0.00000      0.00000   \n",
       "25%          1.000000      21.000000         5.00000      5.00000   \n",
       "50%          1.000000      51.000000        17.00000      9.00000   \n",
       "75%          2.000000     115.000000        28.00000     13.00000   \n",
       "max          9.000000     867.000000       778.00000     23.00000   \n",
       "\n",
       "         flight_day  wants_extra_baggage  wants_preferred_seat  \\\n",
       "count  50000.000000         50000.000000          50000.000000   \n",
       "mean       3.814420             0.668780              0.296960   \n",
       "std        1.992792             0.470657              0.456923   \n",
       "min        1.000000             0.000000              0.000000   \n",
       "25%        2.000000             0.000000              0.000000   \n",
       "50%        4.000000             1.000000              0.000000   \n",
       "75%        5.000000             1.000000              1.000000   \n",
       "max        7.000000             1.000000              1.000000   \n",
       "\n",
       "       wants_in_flight_meals  flight_duration  booking_complete  \n",
       "count           50000.000000     50000.000000      50000.000000  \n",
       "mean                0.427140         7.277561          0.149560  \n",
       "std                 0.494668         1.496863          0.356643  \n",
       "min                 0.000000         4.670000          0.000000  \n",
       "25%                 0.000000         5.620000          0.000000  \n",
       "50%                 0.000000         7.570000          0.000000  \n",
       "75%                 1.000000         8.830000          0.000000  \n",
       "max                 1.000000         9.500000          1.000000  "
      ]
     },
     "execution_count": 7,
     "metadata": {},
     "output_type": "execute_result"
    }
   ],
   "source": [
    "df.describe()"
   ]
  },
  {
   "cell_type": "markdown",
   "id": "8f1afd1a",
   "metadata": {
    "id": "KGOMJX3LZj_0",
    "papermill": {
     "duration": 0.007693,
     "end_time": "2024-03-15T06:45:40.649532",
     "exception": false,
     "start_time": "2024-03-15T06:45:40.641839",
     "status": "completed"
    },
    "tags": []
   },
   "source": [
    "The `.describe()` method gives us a summary of descriptive statistics over the entire dataset (only works for numeric columns). This gives us a quick overview of a few things such as the mean, min, max and overall distribution of each column.\n",
    "\n",
    "From this point, we'll continue exploring the dataset with some visualisations and other metrics that we think may be useful. Then, we shall prepare our dataset for predictive modelling. Finally, we'll be training our machine learning model, evaluate it with performance metrics and output visualisations for the contributing variables."
   ]
  },
  {
   "cell_type": "code",
   "execution_count": 8,
   "id": "38e87541",
   "metadata": {
    "execution": {
     "iopub.execute_input": "2024-03-15T06:45:40.667396Z",
     "iopub.status.busy": "2024-03-15T06:45:40.666982Z",
     "iopub.status.idle": "2024-03-15T06:45:43.275064Z",
     "shell.execute_reply": "2024-03-15T06:45:43.273424Z"
    },
    "id": "QCj-DGFfZj_0",
    "outputId": "988bdd70-0c43-4987-c596-25bd63cb73ee",
    "papermill": {
     "duration": 2.620781,
     "end_time": "2024-03-15T06:45:43.278394",
     "exception": false,
     "start_time": "2024-03-15T06:45:40.657613",
     "status": "completed"
    },
    "tags": []
   },
   "outputs": [
    {
     "name": "stderr",
     "output_type": "stream",
     "text": [
      "/opt/conda/lib/python3.10/site-packages/seaborn/_oldcore.py:1119: FutureWarning: use_inf_as_na option is deprecated and will be removed in a future version. Convert inf values to NaN before operating instead.\n",
      "  with pd.option_context('mode.use_inf_as_na', True):\n"
     ]
    },
    {
     "data": {
      "image/png": "[encoded data removed]",
      "text/plain": [
       "<Figure size 800x600 with 1 Axes>"
      ]
     },
     "metadata": {},
     "output_type": "display_data"
    },
    {
     "data": {
      "image/png": "[encoded data removed]",
      "text/plain": [
       "<Figure size 800x600 with 1 Axes>"
      ]
     },
     "metadata": {},
     "output_type": "display_data"
    }
   ],
   "source": [
    "import pandas as pd\n",
    "import matplotlib.pyplot as plt\n",
    "import seaborn as sns\n",
    "\n",
    "# Visualizations\n",
    "# Example: Histogram of num_passengers\n",
    "plt.figure(figsize=(8, 6))\n",
    "sns.histplot(df[\"num_passengers\"], bins=20, kde=True)\n",
    "plt.title(\"Distribution of Number of Passengers\")\n",
    "plt.xlabel(\"Number of Passengers\")\n",
    "plt.ylabel(\"Frequency\")\n",
    "plt.show()\n",
    "\n",
    "# Example: Count plot of flight_day\n",
    "plt.figure(figsize=(8, 6))\n",
    "sns.countplot(data=df, x=\"flight_day\")\n",
    "plt.title(\"Flight Day Distribution\")\n",
    "plt.xlabel(\"Day of the Week\")\n",
    "plt.ylabel(\"Count\")\n",
    "plt.show()"
   ]
  },
  {
   "cell_type": "markdown",
   "id": "8964cf15",
   "metadata": {
    "id": "hz2jX3mOZj_1",
    "papermill": {
     "duration": 0.009603,
     "end_time": "2024-03-15T06:45:43.299921",
     "exception": false,
     "start_time": "2024-03-15T06:45:43.290318",
     "status": "completed"
    },
    "tags": []
   },
   "source": [
    "### Preparing the dataset"
   ]
  },
  {
   "cell_type": "code",
   "execution_count": 9,
   "id": "586196c6",
   "metadata": {
    "execution": {
     "iopub.execute_input": "2024-03-15T06:45:43.323090Z",
     "iopub.status.busy": "2024-03-15T06:45:43.322637Z",
     "iopub.status.idle": "2024-03-15T06:45:43.826100Z",
     "shell.execute_reply": "2024-03-15T06:45:43.825174Z"
    },
    "id": "up836pYyZj_1",
    "papermill": {
     "duration": 0.519373,
     "end_time": "2024-03-15T06:45:43.829160",
     "exception": false,
     "start_time": "2024-03-15T06:45:43.309787",
     "status": "completed"
    },
    "tags": []
   },
   "outputs": [],
   "source": [
    "# Handle categorical variables\n",
    "df = pd.get_dummies(df, columns=[\"sales_channel\", \"trip_type\", \"route\", \"booking_origin\"])\n",
    "\n",
    "# Split the dataset into features and target variable\n",
    "X = df.drop(columns=[\"booking_complete\"])\n",
    "y = df[\"booking_complete\"]\n",
    "\n",
    "# Split into training and testing sets\n",
    "from sklearn.model_selection import train_test_split\n",
    "X_train, X_test, y_train, y_test = train_test_split(X, y, test_size=0.2, random_state=42)\n"
   ]
  },
  {
   "cell_type": "code",
   "execution_count": 10,
   "id": "fb25018f",
   "metadata": {
    "execution": {
     "iopub.execute_input": "2024-03-15T06:45:43.851550Z",
     "iopub.status.busy": "2024-03-15T06:45:43.850867Z",
     "iopub.status.idle": "2024-03-15T06:46:19.899451Z",
     "shell.execute_reply": "2024-03-15T06:46:19.898281Z"
    },
    "id": "bOhyddWIZj_2",
    "outputId": "dad5de4e-ddce-4c65-82dd-b28442c76d65",
    "papermill": {
     "duration": 36.072757,
     "end_time": "2024-03-15T06:46:19.911914",
     "exception": false,
     "start_time": "2024-03-15T06:45:43.839157",
     "status": "completed"
    },
    "tags": []
   },
   "outputs": [
    {
     "data": {
      "text/html": [
       "<style>#sk-container-id-1 {color: black;background-color: white;}#sk-container-id-1 pre{padding: 0;}#sk-container-id-1 div.sk-toggleable {background-color: white;}#sk-container-id-1 label.sk-toggleable__label {cursor: pointer;display: block;width: 100%;margin-bottom: 0;padding: 0.3em;box-sizing: border-box;text-align: center;}#sk-container-id-1 label.sk-toggleable__label-arrow:before {content: \"▸\";float: left;margin-right: 0.25em;color: #696969;}#sk-container-id-1 label.sk-toggleable__label-arrow:hover:before {color: black;}#sk-container-id-1 div.sk-estimator:hover label.sk-toggleable__label-arrow:before {color: black;}#sk-container-id-1 div.sk-toggleable__content {max-height: 0;max-width: 0;overflow: hidden;text-align: left;background-color: #f0f8ff;}#sk-container-id-1 div.sk-toggleable__content pre {margin: 0.2em;color: black;border-radius: 0.25em;background-color: #f0f8ff;}#sk-container-id-1 input.sk-toggleable__control:checked~div.sk-toggleable__content {max-height: 200px;max-width: 100%;overflow: auto;}#sk-container-id-1 input.sk-toggleable__control:checked~label.sk-toggleable__label-arrow:before {content: \"▾\";}#sk-container-id-1 div.sk-estimator input.sk-toggleable__control:checked~label.sk-toggleable__label {background-color: #d4ebff;}#sk-container-id-1 div.sk-label input.sk-toggleable__control:checked~label.sk-toggleable__label {background-color: #d4ebff;}#sk-container-id-1 input.sk-hidden--visually {border: 0;clip: rect(1px 1px 1px 1px);clip: rect(1px, 1px, 1px, 1px);height: 1px;margin: -1px;overflow: hidden;padding: 0;position: absolute;width: 1px;}#sk-container-id-1 div.sk-estimator {font-family: monospace;background-color: #f0f8ff;border: 1px dotted black;border-radius: 0.25em;box-sizing: border-box;margin-bottom: 0.5em;}#sk-container-id-1 div.sk-estimator:hover {background-color: #d4ebff;}#sk-container-id-1 div.sk-parallel-item::after {content: \"\";width: 100%;border-bottom: 1px solid gray;flex-grow: 1;}#sk-container-id-1 div.sk-label:hover label.sk-toggleable__label {background-color: #d4ebff;}#sk-container-id-1 div.sk-serial::before {content: \"\";position: absolute;border-left: 1px solid gray;box-sizing: border-box;top: 0;bottom: 0;left: 50%;z-index: 0;}#sk-container-id-1 div.sk-serial {display: flex;flex-direction: column;align-items: center;background-color: white;padding-right: 0.2em;padding-left: 0.2em;position: relative;}#sk-container-id-1 div.sk-item {position: relative;z-index: 1;}#sk-container-id-1 div.sk-parallel {display: flex;align-items: stretch;justify-content: center;background-color: white;position: relative;}#sk-container-id-1 div.sk-item::before, #sk-container-id-1 div.sk-parallel-item::before {content: \"\";position: absolute;border-left: 1px solid gray;box-sizing: border-box;top: 0;bottom: 0;left: 50%;z-index: -1;}#sk-container-id-1 div.sk-parallel-item {display: flex;flex-direction: column;z-index: 1;position: relative;background-color: white;}#sk-container-id-1 div.sk-parallel-item:first-child::after {align-self: flex-end;width: 50%;}#sk-container-id-1 div.sk-parallel-item:last-child::after {align-self: flex-start;width: 50%;}#sk-container-id-1 div.sk-parallel-item:only-child::after {width: 0;}#sk-container-id-1 div.sk-dashed-wrapped {border: 1px dashed gray;margin: 0 0.4em 0.5em 0.4em;box-sizing: border-box;padding-bottom: 0.4em;background-color: white;}#sk-container-id-1 div.sk-label label {font-family: monospace;font-weight: bold;display: inline-block;line-height: 1.2em;}#sk-container-id-1 div.sk-label-container {text-align: center;}#sk-container-id-1 div.sk-container {/* jupyter's `normalize.less` sets `[hidden] { display: none; }` but bootstrap.min.css set `[hidden] { display: none !important; }` so we also need the `!important` here to be able to override the default hidden behavior on the sphinx rendered scikit-learn.org. See: https://github.com/scikit-learn/scikit-learn/issues/21755 */display: inline-block !important;position: relative;}#sk-container-id-1 div.sk-text-repr-fallback {display: none;}</style><div id=\"sk-container-id-1\" class=\"sk-top-container\"><div class=\"sk-text-repr-fallback\"><pre>RandomForestClassifier()</pre><b>In a Jupyter environment, please rerun this cell to show the HTML representation or trust the notebook. <br />On GitHub, the HTML representation is unable to render, please try loading this page with nbviewer.org.</b></div><div class=\"sk-container\" hidden><div class=\"sk-item\"><div class=\"sk-estimator sk-toggleable\"><input class=\"sk-toggleable__control sk-hidden--visually\" id=\"sk-estimator-id-1\" type=\"checkbox\" checked><label for=\"sk-estimator-id-1\" class=\"sk-toggleable__label sk-toggleable__label-arrow\">RandomForestClassifier</label><div class=\"sk-toggleable__content\"><pre>RandomForestClassifier()</pre></div></div></div></div></div>"
      ],
      "text/plain": [
       "RandomForestClassifier()"
      ]
     },
     "execution_count": 10,
     "metadata": {},
     "output_type": "execute_result"
    }
   ],
   "source": [
    "# Import models\n",
    "from sklearn.ensemble import RandomForestClassifier\n",
    "\n",
    "# Initialize models\n",
    "rf_model = RandomForestClassifier()\n",
    "\n",
    "\n",
    "# Train models\n",
    "rf_model.fit(X_train, y_train)\n",
    "\n"
   ]
  },
  {
   "cell_type": "code",
   "execution_count": 11,
   "id": "09780719",
   "metadata": {
    "execution": {
     "iopub.execute_input": "2024-03-15T06:46:19.933057Z",
     "iopub.status.busy": "2024-03-15T06:46:19.932672Z",
     "iopub.status.idle": "2024-03-15T06:46:20.595101Z",
     "shell.execute_reply": "2024-03-15T06:46:20.593095Z"
    },
    "id": "cmxEulZNZj_2",
    "outputId": "942c5ce0-1450-4fdb-c01e-67e9881ad4ed",
    "papermill": {
     "duration": 0.676926,
     "end_time": "2024-03-15T06:46:20.598400",
     "exception": false,
     "start_time": "2024-03-15T06:46:19.921474",
     "status": "completed"
    },
    "tags": []
   },
   "outputs": [
    {
     "name": "stdout",
     "output_type": "stream",
     "text": [
      "Random Forest Accuracy is 85.50999999999999 %\n"
     ]
    }
   ],
   "source": [
    "# Import metrics\n",
    "from sklearn.metrics import accuracy_score, classification_report\n",
    "\n",
    "# Make predictions\n",
    "rf_pred = rf_model.predict(X_test)\n",
    "\n",
    "# Evaluate accuracy\n",
    "rf_accuracy = accuracy_score(y_test, rf_pred)\n",
    "\n",
    "print(\"Random Forest Accuracy is\",rf_accuracy*100,\"%\")"
   ]
  },
  {
   "cell_type": "code",
   "execution_count": 12,
   "id": "228174b8",
   "metadata": {
    "execution": {
     "iopub.execute_input": "2024-03-15T06:46:20.621537Z",
     "iopub.status.busy": "2024-03-15T06:46:20.621111Z",
     "iopub.status.idle": "2024-03-15T06:46:20.650416Z",
     "shell.execute_reply": "2024-03-15T06:46:20.648498Z"
    },
    "id": "TiKlGjOwhsO0",
    "outputId": "c3b4d290-7069-4d96-c242-883300026dc6",
    "papermill": {
     "duration": 0.044675,
     "end_time": "2024-03-15T06:46:20.653517",
     "exception": false,
     "start_time": "2024-03-15T06:46:20.608842",
     "status": "completed"
    },
    "tags": []
   },
   "outputs": [
    {
     "name": "stdout",
     "output_type": "stream",
     "text": [
      "Random Forest Classification Report:\n",
      "              precision    recall  f1-score   support\n",
      "\n",
      "           0       0.87      0.98      0.92      8520\n",
      "           1       0.54      0.14      0.23      1480\n",
      "\n",
      "    accuracy                           0.86     10000\n",
      "   macro avg       0.70      0.56      0.57     10000\n",
      "weighted avg       0.82      0.86      0.82     10000\n",
      "\n"
     ]
    }
   ],
   "source": [
    "# Print classification report\n",
    "print(\"Random Forest Classification Report:\")\n",
    "print(classification_report(y_test, rf_pred))"
   ]
  },
  {
   "cell_type": "markdown",
   "id": "9c569fb3",
   "metadata": {
    "id": "qsGDbbaKiNra",
    "papermill": {
     "duration": 0.010152,
     "end_time": "2024-03-15T06:46:20.674561",
     "exception": false,
     "start_time": "2024-03-15T06:46:20.664409",
     "status": "completed"
    },
    "tags": []
   },
   "source": [
    "  **  Precision:** Precision measures the accuracy of the positive predictions made by the classifier. It is calculated as the ratio of true positive predictions to the total number of positive predictions made by the classifier. In your report:\n",
    "        Precision for class 0 (label 0): 0.87\n",
    "        Precision for class 1 (label 1): 0.52\n",
    "\n",
    "    This means that out of all instances predicted as class 0 by the classifier, 87% of them are actually true positives. Similarly, out of all instances predicted as class 1, 52% are actually true positives.\n",
    "\n",
    "**    Recall (Sensitivity):** Recall measures the ability of the classifier to correctly identify true positives from all actual positives in the dataset. It is calculated as the ratio of true positive predictions to the total number of actual positive instances. In your report:\n",
    "        Recall for class 0 (label 0): 0.98\n",
    "        Recall for class 1 (label 1): 0.14\n",
    "\n",
    "    This indicates that the classifier has high recall for class 0, correctly identifying 98% of all actual instances of class 0. However, it has low recall for class 1, correctly identifying only 14% of all actual instances of class 1.\n",
    "\n",
    "**    F1-score:** The F1-score is the harmonic mean of precision and recall, providing a balance between the two metrics. It is calculated as 2 * (precision * recall) / (precision + recall). In your report:\n",
    "        F1-score for class 0 (label 0): 0.92\n",
    "        F1-score for class 1 (label 1): 0.22\n",
    "\n",
    "    The F1-score for class 0 is high, indicating a good balance between precision and recall for class 0. However, the F1-score for class 1 is low, indicating that precision and recall are not well-balanced for class 1.\n",
    "\n",
    "**    Support:** Support refers to the number of actual occurrences of each class in the dataset. In your report:\n",
    "        Support for class 0 (label 0): 8520\n",
    "        Support for class 1 (label 1): 1480\n",
    "\n",
    "    This indicates that there are 8520 instances of class 0 and 1480 instances of class 1 in the dataset.\n",
    "\n",
    "**    Accuracy: **Accuracy is the ratio of correctly predicted instances to the total number of instances in the dataset. In your report:\n",
    "        Overall accuracy: 0.85 (85%)\n",
    "\n",
    "    This indicates that the classifier correctly predicts the class label for 85% of all instances in the dataset.\n",
    "\n",
    "**    Macro Avg and Weighted Avg:** These are averages of precision, recall, and F1-score calculated across all classes. Macro avg treats all classes equally, while weighted avg accounts for class imbalance by computing the average weighted by the number of instances for each class. In your report:\n",
    "        Macro avg precision, recall, and F1-score are lower compared to weighted avg, indicating class imbalance favoring class 0."
   ]
  },
  {
   "cell_type": "code",
   "execution_count": 13,
   "id": "848a8c34",
   "metadata": {
    "execution": {
     "iopub.execute_input": "2024-03-15T06:46:20.698865Z",
     "iopub.status.busy": "2024-03-15T06:46:20.697811Z",
     "iopub.status.idle": "2024-03-15T06:46:21.051174Z",
     "shell.execute_reply": "2024-03-15T06:46:21.050172Z"
    },
    "id": "y_eTHZFWZj_2",
    "outputId": "6f9f095c-ca14-4bcb-bb1a-8dfd93a45f98",
    "papermill": {
     "duration": 0.368625,
     "end_time": "2024-03-15T06:46:21.054237",
     "exception": false,
     "start_time": "2024-03-15T06:46:20.685612",
     "status": "completed"
    },
    "tags": []
   },
   "outputs": [
    {
     "data": {
      "image/png": "[encoded data removed]",
      "text/plain": [
       "<Figure size 1000x600 with 1 Axes>"
      ]
     },
     "metadata": {},
     "output_type": "display_data"
    }
   ],
   "source": [
    "# Feature importance plot for Random Forest\n",
    "plt.figure(figsize=(10, 6))\n",
    "feat_importances = pd.Series(rf_model.feature_importances_, index=X.columns)\n",
    "feat_importances.nlargest(10).plot(kind='barh')\n",
    "plt.title(\"Top 10 Features Importance (Random Forest)\")\n",
    "plt.xlabel(\"Importance\")\n",
    "plt.ylabel(\"Feature\")\n",
    "plt.show()\n"
   ]
  }
 ],
 "metadata": {
  "colab": {
   "provenance": []
  },
  "kaggle": {
   "accelerator": "none",
   "dataSources": [
    {
     "datasetId": 4595550,
     "sourceId": 7839353,
     "sourceType": "datasetVersion"
    }
   ],
   "dockerImageVersionId": 30664,
   "isGpuEnabled": false,
   "isInternetEnabled": true,
   "language": "python",
   "sourceType": "notebook"
  },
  "kernelspec": {
   "display_name": "Python 3",
   "language": "python",
   "name": "python3"
  },
  "language_info": {
   "codemirror_mode": {
    "name": "ipython",
    "version": 3
   },
   "file_extension": ".py",
   "mimetype": "text/x-python",
   "name": "python",
   "nbconvert_exporter": "python",
   "pygments_lexer": "ipython3",
   "version": "3.10.13"
  },
  "papermill": {
   "default_parameters": {},
   "duration": 45.579248,
   "end_time": "2024-03-15T06:46:21.686698",
   "environment_variables": {},
   "exception": null,
   "input_path": "__notebook__.ipynb",
   "output_path": "__notebook__.ipynb",
   "parameters": {},
   "start_time": "2024-03-15T06:45:36.107450",
   "version": "2.5.0"
  },
  "vscode": {
   "interpreter": {
    "hash": "4f7924c4c56b083e0e50eadfe7ef592a7a8ef70df33a0047f82280e6be1afe15"
   }
  }
 },
 "nbformat": 4,
 "nbformat_minor": 5
}
